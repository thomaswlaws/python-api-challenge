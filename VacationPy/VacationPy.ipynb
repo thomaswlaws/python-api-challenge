{
 "cells": [
  {
   "cell_type": "markdown",
   "metadata": {},
   "source": [
    "# VacationPy\n",
    "----\n",
    "\n",
    "#### Note\n",
    "* Instructions have been included for each segment. You do not have to follow them exactly, but they are included to help you think through the steps."
   ]
  },
  {
   "cell_type": "code",
   "execution_count": 2,
   "metadata": {},
   "outputs": [],
   "source": [
    "# Dependencies and Setup\n",
    "import matplotlib.pyplot as plt\n",
    "import pandas as pd\n",
    "import numpy as np\n",
    "import requests\n",
    "import gmaps\n",
    "import os\n",
    "\n",
    "# Import API key\n",
    "from api_keys import g_key\n",
    ""
   ]
  },
  {
   "cell_type": "markdown",
   "metadata": {},
   "source": [
    "### Store Part I results into DataFrame\n",
    "* Load the csv exported in Part I to a DataFrame"
   ]
  },
  {
   "cell_type": "code",
   "execution_count": 7,
   "metadata": {},
   "outputs": [
    {
     "output_type": "execute_result",
     "data": {
      "text/plain": "             City  Cloudiness Country                       Date  Humidity  \\\n0           vigia          90      BR  2020-04-18 01:58:13+00:00        94   \n1    punta arenas          14      CL  2020-04-18 01:55:10+00:00        66   \n2          kodiak          90      US  2020-04-18 01:58:13+00:00        76   \n3        chumikan          97      RU  2020-04-18 01:58:13+00:00        85   \n4         rikitea           1      PF  2020-04-18 01:54:40+00:00        63   \n..            ...         ...     ...                        ...       ...   \n561        chulym           2      RU  2020-04-18 01:59:35+00:00        79   \n562          palu          59      ID  2020-04-18 01:56:40+00:00        53   \n563          asau          99      RO  2020-04-18 01:59:35+00:00        71   \n564      tarrafal          20      CV  2020-04-18 01:59:35+00:00        68   \n565        nabire          66      ID  2020-04-18 01:55:06+00:00        59   \n\n      Temp    Lat     Lng  Wind Speed  \n0    77.00  -0.86  -48.14        1.12  \n1    48.20 -53.15  -70.92       11.41  \n2    51.80  57.79 -152.41       10.29  \n3    29.53  54.72  135.31        5.61  \n4    77.36 -23.12 -134.97        1.99  \n..     ...    ...     ...         ...  \n561  45.75  55.10   80.96        8.68  \n562  90.88  -0.89  119.87        2.62  \n563  50.00  46.43   26.40       10.29  \n564  71.60  15.28  -23.77       13.87  \n565  89.26  -3.37  135.48        5.84  \n\n[566 rows x 9 columns]",
      "text/html": "<div>\n<style scoped>\n    .dataframe tbody tr th:only-of-type {\n        vertical-align: middle;\n    }\n\n    .dataframe tbody tr th {\n        vertical-align: top;\n    }\n\n    .dataframe thead th {\n        text-align: right;\n    }\n</style>\n<table border=\"1\" class=\"dataframe\">\n  <thead>\n    <tr style=\"text-align: right;\">\n      <th></th>\n      <th>City</th>\n      <th>Cloudiness</th>\n      <th>Country</th>\n      <th>Date</th>\n      <th>Humidity</th>\n      <th>Temp</th>\n      <th>Lat</th>\n      <th>Lng</th>\n      <th>Wind Speed</th>\n    </tr>\n  </thead>\n  <tbody>\n    <tr>\n      <th>0</th>\n      <td>vigia</td>\n      <td>90</td>\n      <td>BR</td>\n      <td>2020-04-18 01:58:13+00:00</td>\n      <td>94</td>\n      <td>77.00</td>\n      <td>-0.86</td>\n      <td>-48.14</td>\n      <td>1.12</td>\n    </tr>\n    <tr>\n      <th>1</th>\n      <td>punta arenas</td>\n      <td>14</td>\n      <td>CL</td>\n      <td>2020-04-18 01:55:10+00:00</td>\n      <td>66</td>\n      <td>48.20</td>\n      <td>-53.15</td>\n      <td>-70.92</td>\n      <td>11.41</td>\n    </tr>\n    <tr>\n      <th>2</th>\n      <td>kodiak</td>\n      <td>90</td>\n      <td>US</td>\n      <td>2020-04-18 01:58:13+00:00</td>\n      <td>76</td>\n      <td>51.80</td>\n      <td>57.79</td>\n      <td>-152.41</td>\n      <td>10.29</td>\n    </tr>\n    <tr>\n      <th>3</th>\n      <td>chumikan</td>\n      <td>97</td>\n      <td>RU</td>\n      <td>2020-04-18 01:58:13+00:00</td>\n      <td>85</td>\n      <td>29.53</td>\n      <td>54.72</td>\n      <td>135.31</td>\n      <td>5.61</td>\n    </tr>\n    <tr>\n      <th>4</th>\n      <td>rikitea</td>\n      <td>1</td>\n      <td>PF</td>\n      <td>2020-04-18 01:54:40+00:00</td>\n      <td>63</td>\n      <td>77.36</td>\n      <td>-23.12</td>\n      <td>-134.97</td>\n      <td>1.99</td>\n    </tr>\n    <tr>\n      <th>...</th>\n      <td>...</td>\n      <td>...</td>\n      <td>...</td>\n      <td>...</td>\n      <td>...</td>\n      <td>...</td>\n      <td>...</td>\n      <td>...</td>\n      <td>...</td>\n    </tr>\n    <tr>\n      <th>561</th>\n      <td>chulym</td>\n      <td>2</td>\n      <td>RU</td>\n      <td>2020-04-18 01:59:35+00:00</td>\n      <td>79</td>\n      <td>45.75</td>\n      <td>55.10</td>\n      <td>80.96</td>\n      <td>8.68</td>\n    </tr>\n    <tr>\n      <th>562</th>\n      <td>palu</td>\n      <td>59</td>\n      <td>ID</td>\n      <td>2020-04-18 01:56:40+00:00</td>\n      <td>53</td>\n      <td>90.88</td>\n      <td>-0.89</td>\n      <td>119.87</td>\n      <td>2.62</td>\n    </tr>\n    <tr>\n      <th>563</th>\n      <td>asau</td>\n      <td>99</td>\n      <td>RO</td>\n      <td>2020-04-18 01:59:35+00:00</td>\n      <td>71</td>\n      <td>50.00</td>\n      <td>46.43</td>\n      <td>26.40</td>\n      <td>10.29</td>\n    </tr>\n    <tr>\n      <th>564</th>\n      <td>tarrafal</td>\n      <td>20</td>\n      <td>CV</td>\n      <td>2020-04-18 01:59:35+00:00</td>\n      <td>68</td>\n      <td>71.60</td>\n      <td>15.28</td>\n      <td>-23.77</td>\n      <td>13.87</td>\n    </tr>\n    <tr>\n      <th>565</th>\n      <td>nabire</td>\n      <td>66</td>\n      <td>ID</td>\n      <td>2020-04-18 01:55:06+00:00</td>\n      <td>59</td>\n      <td>89.26</td>\n      <td>-3.37</td>\n      <td>135.48</td>\n      <td>5.84</td>\n    </tr>\n  </tbody>\n</table>\n<p>566 rows × 9 columns</p>\n</div>"
     },
     "metadata": {},
     "execution_count": 7
    }
   ],
   "source": [
    "\n",
    "output_file = \"output_data/cities.csv\"\n",
    "# output_data_file\n",
    "\n",
    "weather_df = pd.read_csv(output_file)\n",
    "\n",
    "weather_data_df = weather_df.drop(columns=[\"Unnamed: 0\"])\n",
    "weather_data_df"
   ]
  },
  {
   "cell_type": "markdown",
   "metadata": {},
   "source": [
    "### Humidity Heatmap\n",
    "* Configure gmaps.\n",
    "* Use the Lat and Lng as locations and Humidity as the weight.\n",
    "* Add Heatmap layer to map."
   ]
  },
  {
   "cell_type": "code",
   "execution_count": 8,
   "metadata": {},
   "outputs": [],
   "source": [
    "\n",
    "gmaps.configure(api_key=g_key)"
   ]
  },
  {
   "cell_type": "code",
   "execution_count": 13,
   "metadata": {},
   "outputs": [
    {
     "output_type": "display_data",
     "data": {
      "text/plain": "Figure(layout=FigureLayout(height='420px'))",
      "application/vnd.jupyter.widget-view+json": {
       "version_major": 2,
       "version_minor": 0,
       "model_id": "9d9b13fb367e4698a45b62c9b50e7e0f"
      }
     },
     "metadata": {}
    }
   ],
   "source": [
    "\n",
    "humidity = weather_data_df[\"Humidity\"].astype(float)\n",
    "maxhumidity = humidity.max()\n",
    "locations = weather_data_df[[\"Lat\", \"Lng\"]]\n",
    "fig = gmaps.figure()\n",
    "heat_layer = gmaps.heatmap_layer(locations, weights=humidity,dissipating=False, max_intensity=maxhumidity,point_radius=3)\n",
    "fig.add_layer(heat_layer)\n",
    "fig\n",
    ""
   ]
  },
  {
   "cell_type": "markdown",
   "metadata": {},
   "source": [
    "### Create new DataFrame fitting weather criteria\n",
    "* Narrow down the cities to fit weather conditions.\n",
    "* Drop any rows will null values."
   ]
  },
  {
   "cell_type": "code",
   "execution_count": 20,
   "metadata": {},
   "outputs": [
    {
     "output_type": "execute_result",
     "data": {
      "text/plain": "        City  Cloudiness Country                       Date  Humidity   Temp  \\\n0  la romana           0      DO  2020-04-18 01:58:20+00:00        85  73.80   \n1        moa           0      CU  2020-04-18 01:58:48+00:00        82  74.55   \n2   san juan           0      AR  2020-04-18 01:55:14+00:00        34  71.82   \n\n     Lat    Lng  Wind Speed  \n0  18.43 -68.97        9.42  \n1  20.66 -74.94        8.41  \n2 -31.54 -68.54        6.91  ",
      "text/html": "<div>\n<style scoped>\n    .dataframe tbody tr th:only-of-type {\n        vertical-align: middle;\n    }\n\n    .dataframe tbody tr th {\n        vertical-align: top;\n    }\n\n    .dataframe thead th {\n        text-align: right;\n    }\n</style>\n<table border=\"1\" class=\"dataframe\">\n  <thead>\n    <tr style=\"text-align: right;\">\n      <th></th>\n      <th>City</th>\n      <th>Cloudiness</th>\n      <th>Country</th>\n      <th>Date</th>\n      <th>Humidity</th>\n      <th>Temp</th>\n      <th>Lat</th>\n      <th>Lng</th>\n      <th>Wind Speed</th>\n    </tr>\n  </thead>\n  <tbody>\n    <tr>\n      <th>0</th>\n      <td>la romana</td>\n      <td>0</td>\n      <td>DO</td>\n      <td>2020-04-18 01:58:20+00:00</td>\n      <td>85</td>\n      <td>73.80</td>\n      <td>18.43</td>\n      <td>-68.97</td>\n      <td>9.42</td>\n    </tr>\n    <tr>\n      <th>1</th>\n      <td>moa</td>\n      <td>0</td>\n      <td>CU</td>\n      <td>2020-04-18 01:58:48+00:00</td>\n      <td>82</td>\n      <td>74.55</td>\n      <td>20.66</td>\n      <td>-74.94</td>\n      <td>8.41</td>\n    </tr>\n    <tr>\n      <th>2</th>\n      <td>san juan</td>\n      <td>0</td>\n      <td>AR</td>\n      <td>2020-04-18 01:55:14+00:00</td>\n      <td>34</td>\n      <td>71.82</td>\n      <td>-31.54</td>\n      <td>-68.54</td>\n      <td>6.91</td>\n    </tr>\n  </tbody>\n</table>\n</div>"
     },
     "metadata": {},
     "execution_count": 20
    }
   ],
   "source": [
    "new_fit_df = weather_data_df.loc[(weather_data_df[\"Temp\"] > 70) & (weather_data_df[\"Temp\"] < 80) & (weather_data_df[\"Cloudiness\"] == 0) & (weather_data_df[\"Wind Speed\"]< 10), :]\n",
    "new_fit_df = new_fit_df.dropna(how='any')\n",
    "new_fit_df.reset_index(inplace=True)\n",
    "del new_fit_df['index']\n",
    "new_fit_df.head()"
   ]
  },
  {
   "cell_type": "markdown",
   "metadata": {},
   "source": [
    "### Hotel Map\n",
    "* Store into variable named `hotel_df`.\n",
    "* Add a \"Hotel Name\" column to the DataFrame.\n",
    "* Set parameters to search for hotels with 5000 meters.\n",
    "* Hit the Google Places API for each city's coordinates.\n",
    "* Store the first Hotel result into the DataFrame.\n",
    "* Plot markers on top of the heatmap."
   ]
  },
  {
   "cell_type": "code",
   "execution_count": 26,
   "metadata": {},
   "outputs": [
    {
     "output_type": "execute_result",
     "data": {
      "text/plain": "        City  Cloudiness Country                       Date  Humidity   Temp  \\\n0  la romana           0      DO  2020-04-18 01:58:20+00:00        85  73.80   \n1        moa           0      CU  2020-04-18 01:58:48+00:00        82  74.55   \n2   san juan           0      AR  2020-04-18 01:55:14+00:00        34  71.82   \n\n     Lat    Lng  Wind Speed Hotel Name  \n0  18.43 -68.97        9.42  La Romana  \n1  20.66 -74.94        8.41        Moa  \n2 -31.54 -68.54        6.91   San Juan  ",
      "text/html": "<div>\n<style scoped>\n    .dataframe tbody tr th:only-of-type {\n        vertical-align: middle;\n    }\n\n    .dataframe tbody tr th {\n        vertical-align: top;\n    }\n\n    .dataframe thead th {\n        text-align: right;\n    }\n</style>\n<table border=\"1\" class=\"dataframe\">\n  <thead>\n    <tr style=\"text-align: right;\">\n      <th></th>\n      <th>City</th>\n      <th>Cloudiness</th>\n      <th>Country</th>\n      <th>Date</th>\n      <th>Humidity</th>\n      <th>Temp</th>\n      <th>Lat</th>\n      <th>Lng</th>\n      <th>Wind Speed</th>\n      <th>Hotel Name</th>\n    </tr>\n  </thead>\n  <tbody>\n    <tr>\n      <th>0</th>\n      <td>la romana</td>\n      <td>0</td>\n      <td>DO</td>\n      <td>2020-04-18 01:58:20+00:00</td>\n      <td>85</td>\n      <td>73.80</td>\n      <td>18.43</td>\n      <td>-68.97</td>\n      <td>9.42</td>\n      <td>La Romana</td>\n    </tr>\n    <tr>\n      <th>1</th>\n      <td>moa</td>\n      <td>0</td>\n      <td>CU</td>\n      <td>2020-04-18 01:58:48+00:00</td>\n      <td>82</td>\n      <td>74.55</td>\n      <td>20.66</td>\n      <td>-74.94</td>\n      <td>8.41</td>\n      <td>Moa</td>\n    </tr>\n    <tr>\n      <th>2</th>\n      <td>san juan</td>\n      <td>0</td>\n      <td>AR</td>\n      <td>2020-04-18 01:55:14+00:00</td>\n      <td>34</td>\n      <td>71.82</td>\n      <td>-31.54</td>\n      <td>-68.54</td>\n      <td>6.91</td>\n      <td>San Juan</td>\n    </tr>\n  </tbody>\n</table>\n</div>"
     },
     "metadata": {},
     "execution_count": 26
    }
   ],
   "source": [
    "\n",
    "hotellist = []\n",
    "\n",
    "for i in range(len(new_fit_df)):\n",
    "    lat = new_fit_df.loc[i]['Lat']\n",
    "    lng = new_fit_df.loc[i]['Lng']\n",
    "\n",
    "    params = {\n",
    "        \"location\": f\"{lat},{lng}\",\n",
    "        \"radius\": 5000,\n",
    "        \"types\" : \"hotel\",\n",
    "        \"key\": g_key\n",
    "    }\n",
    "    \n",
    "    base_url = \"https://maps.googleapis.com/maps/api/place/nearbysearch/json\"\n",
    "    requested = requests.get(base_url, params=params)\n",
    "    jsn = requested.json()\n",
    "    try:\n",
    "        hotellist.append(jsn['results'][0]['name'])\n",
    "    except:\n",
    "        hotellist.append(\"\")\n",
    "new_fit_df[\"Hotel Name\"] = hotellist\n",
    "new_fit_df = new_fit_df.dropna(how='any')\n",
    "new_fit_df.head()"
   ]
  },
  {
   "cell_type": "code",
   "execution_count": 27,
   "metadata": {},
   "outputs": [],
   "source": [
    "# NOTE: Do not change any of the code in this cell\n",
    "\n",
    "# Using the template add the hotel marks to the heatmap\n",
    "info_box_template = \"\"\"\n",
    "<dl>\n",
    "<dt>Name</dt><dd>{Hotel Name}</dd>\n",
    "<dt>City</dt><dd>{City}</dd>\n",
    "<dt>Country</dt><dd>{Country}</dd>\n",
    "</dl>\n",
    "\"\"\"\n",
    "# Store the DataFrame Row\n",
    "# NOTE: be sure to update with your DataFrame name\n",
    "hotel_info = [info_box_template.format(**row) for index, row in new_fit_df.iterrows()]\n",
    "locations = hotel_df[[\"Lat\", \"Lng\"]]"
   ]
  },
  {
   "cell_type": "code",
   "execution_count": 28,
   "metadata": {},
   "outputs": [
    {
     "output_type": "display_data",
     "data": {
      "text/plain": "Figure(layout=FigureLayout(height='420px'))",
      "application/vnd.jupyter.widget-view+json": {
       "version_major": 2,
       "version_minor": 0,
       "model_id": "9d9b13fb367e4698a45b62c9b50e7e0f"
      }
     },
     "metadata": {}
    }
   ],
   "source": [
    "# Add marker layer ontop of heat map\n",
    "\n",
    "markers = gmaps.marker_layer(locations)\n",
    "fig.add_layer(markers)\n",
    "\n",
    "\n",
    "# Display Map\n",
    "fig"
   ]
  }
 ],
 "metadata": {
  "kernelspec": {
   "display_name": "Python 3",
   "language": "python",
   "name": "python3"
  },
  "language_info": {
   "codemirror_mode": {
    "name": "ipython",
    "version": 3
   },
   "file_extension": ".py",
   "mimetype": "text/x-python",
   "name": "python",
   "nbconvert_exporter": "python",
   "pygments_lexer": "ipython3",
   "version": "3.7.6-final"
  },
  "latex_envs": {
   "LaTeX_envs_menu_present": true,
   "autoclose": false,
   "autocomplete": true,
   "bibliofile": "biblio.bib",
   "cite_by": "apalike",
   "current_citInitial": 1,
   "eqLabelWithNumbers": true,
   "eqNumInitial": 1,
   "hotkeys": {
    "equation": "Ctrl-E",
    "itemize": "Ctrl-I"
   },
   "labels_anchors": false,
   "latex_user_defs": false,
   "report_style_numbering": false,
   "user_envs_cfg": false
  }
 },
 "nbformat": 4,
 "nbformat_minor": 2
}